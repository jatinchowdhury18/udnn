{
 "cells": [
  {
   "cell_type": "code",
   "execution_count": 1,
   "metadata": {},
   "outputs": [],
   "source": [
    "#Import libraries\n",
    "import os\n",
    "import tensorflow as tf\n",
    "import numpy as np\n",
    "from sklearn.model_selection import StratifiedShuffleSplit\n",
    "\n",
    "#Download dataset\n",
    "(x_train, y_train), (x_test, y_test) = tf.keras.datasets.cifar10.load_data()"
   ]
  },
  {
   "cell_type": "code",
   "execution_count": 2,
   "metadata": {},
   "outputs": [],
   "source": [
    "# normalize inputs from 0-255 to 0.0-1.0\n",
    "x_train = x_train.astype('double')\n",
    "x_test = x_test.astype('double')\n",
    "x_train = x_train / 255.0\n",
    "x_test = x_test / 255.0"
   ]
  },
  {
   "cell_type": "code",
   "execution_count": 3,
   "metadata": {},
   "outputs": [],
   "source": [
    "x_train=np.dot(x_train[...,:3], [0.299, 0.587, 0.114])\n",
    "x_test=np.dot(x_test[...,:3], [0.299, 0.587, 0.114])\n",
    "# add empty color dimension\n",
    "x_train = np.expand_dims(x_train, -1)\n",
    "x_test = np.expand_dims(x_test, -1)"
   ]
  },
  {
   "cell_type": "code",
   "execution_count": 4,
   "metadata": {},
   "outputs": [
    {
     "output_type": "stream",
     "name": "stdout",
     "text": "(41666, 32, 32, 1) (8334, 32, 32, 1) (10000, 32, 32, 1)\n"
    }
   ],
   "source": [
    "#Split the dataset into train and valid\n",
    "s = StratifiedShuffleSplit(n_splits=5, random_state=0, test_size=1/6)\n",
    "train_index, valid_index = next(s.split(x_train, y_train))\n",
    "x_valid, y_valid = x_train[valid_index], y_train[valid_index]\n",
    "x_train, y_train = x_train[train_index], y_train[train_index]\n",
    "print(x_train.shape, x_valid.shape, x_test.shape)"
   ]
  },
  {
   "cell_type": "code",
   "execution_count": 5,
   "metadata": {},
   "outputs": [
    {
     "output_type": "stream",
     "name": "stdout",
     "text": "Model: \"sequential_8\"\n_________________________________________________________________\nLayer (type)                 Output Shape              Param #   \n=================================================================\nconv2d_19 (Conv2D)           (None, 30, 30, 32)        320       \n_________________________________________________________________\nactivation_21 (Activation)   (None, 30, 30, 32)        0         \n_________________________________________________________________\nconv2d_20 (Conv2D)           (None, 28, 28, 32)        9248      \n_________________________________________________________________\nactivation_22 (Activation)   (None, 28, 28, 32)        0         \n_________________________________________________________________\nmax_pooling2d_16 (MaxPooling (None, 14, 14, 32)        0         \n_________________________________________________________________\ndropout_21 (Dropout)         (None, 14, 14, 32)        0         \n_________________________________________________________________\nconv2d_21 (Conv2D)           (None, 12, 12, 64)        18496     \n_________________________________________________________________\nactivation_23 (Activation)   (None, 12, 12, 64)        0         \n_________________________________________________________________\nmax_pooling2d_17 (MaxPooling (None, 6, 6, 64)          0         \n_________________________________________________________________\ndropout_22 (Dropout)         (None, 6, 6, 64)          0         \n_________________________________________________________________\nflatten_6 (Flatten)          (None, 2304)              0         \n_________________________________________________________________\ndense_12 (Dense)             (None, 512)               1180160   \n_________________________________________________________________\nactivation_24 (Activation)   (None, 512)               0         \n_________________________________________________________________\ndropout_23 (Dropout)         (None, 512)               0         \n_________________________________________________________________\ndense_13 (Dense)             (None, 10)                5130      \n_________________________________________________________________\nactivation_25 (Activation)   (None, 10)                0         \n=================================================================\nTotal params: 1,213,354\nTrainable params: 1,213,354\nNon-trainable params: 0\n_________________________________________________________________\n"
    }
   ],
   "source": [
    "# load tendorflow model\n",
    "tf_model = tf.keras.models.load_model('my_model.h5')\n",
    "tf_model.summary()"
   ]
  },
  {
   "cell_type": "code",
   "execution_count": 6,
   "metadata": {},
   "outputs": [
    {
     "output_type": "stream",
     "name": "stdout",
     "text": "\n Test accuracy: 0.7405\n"
    }
   ],
   "source": [
    "# Evaluate the model on test set\n",
    "score = tf_model.evaluate(x_test, y_test, verbose=0)\n",
    "\n",
    "# Print test accuracy\n",
    "print('\\n', 'Test accuracy:', score[1])"
   ]
  },
  {
   "cell_type": "code",
   "execution_count": 7,
   "metadata": {},
   "outputs": [
    {
     "output_type": "stream",
     "name": "stdout",
     "text": "My acc: 0.752\nCPU times: user 610 ms, sys: 8.75 ms, total: 619 ms\nWall time: 359 ms\n"
    }
   ],
   "source": [
    "%%time\n",
    "N = 1000\n",
    "tf_y = tf_model.predict(x_test[:N])\n",
    "tf_y_args = np.argmax(tf_y, -1)\n",
    "scores = np.zeros(N)\n",
    "for i in range(N):\n",
    "    scores[i] = int(tf_y_args[i] == y_test[i])\n",
    "\n",
    "print('My acc:', np.sum(scores) / N)"
   ]
  },
  {
   "cell_type": "code",
   "execution_count": 28,
   "metadata": {},
   "outputs": [],
   "source": [
    "# create udnn model\n",
    "import udnn\n",
    "dtype=\"int8\"\n",
    "model = udnn.Model()\n",
    "model.add_layer(\"conv0\", udnn.Conv2D(x_train.shape[1:], dtype, 3, 32))\n",
    "model.add_layer(\"relu0\", udnn.ReLu(model.get_layer(0).out.shape[:3], dtype))\n",
    "model.add_layer(\"conv1\", udnn.Conv2D(model.get_layer(1).out.shape[:3], dtype, 3, 32))\n",
    "model.add_layer(\"relu1\", udnn.ReLu(model.get_layer(2).out.shape[:3], dtype))\n",
    "model.add_layer(\"maxpool1\", udnn.MaxPooling(model.get_layer(3).out.shape[:3], dtype, 2))\n",
    "\n",
    "model.add_layer(\"conv2\", udnn.Conv2D(model.get_layer(4).out.shape[:3], dtype, 3, 64))\n",
    "model.add_layer(\"relu2\", udnn.ReLu(model.get_layer(5).out.shape[:3], dtype))\n",
    "model.add_layer(\"maxpool2\", udnn.MaxPooling(model.get_layer(6).out.shape[:3], dtype, 2))\n",
    "\n",
    "model.add_layer(\"flatten3\", udnn.Flatten(model.get_layer(7).out.shape[:3], dtype))\n",
    "model.add_layer(\"dense3\", udnn.Dense(model.get_layer(8).out.shape[:3], dtype, 512))\n",
    "model.add_layer(\"relu3\", udnn.ReLu(model.get_layer(9).out.shape[:3], dtype))\n",
    "model.add_layer(\"dense4\", udnn.Dense(model.get_layer(10).out.shape[:3], dtype, 10))\n",
    "model.add_layer(\"sigmoid4\", udnn.Sigmoid(model.get_layer(11).out.shape[:3], dtype))\n",
    "\n",
    "weights_cast = []\n",
    "for w in tf_model.weights:\n",
    "    weights_cast.append(tf.cast(w, tf.int8))\n",
    "model.load_weights(weights_cast)"
   ]
  },
  {
   "cell_type": "code",
   "execution_count": 29,
   "metadata": {},
   "outputs": [
    {
     "output_type": "stream",
     "name": "stdout",
     "text": "My acc: 0.103\nCPU times: user 31.9 s, sys: 31.6 ms, total: 32 s\nWall time: 32.2 s\n"
    }
   ],
   "source": [
    "%%time\n",
    "N = 1000\n",
    "\n",
    "ys = np.zeros_like(tf_y)\n",
    "for idx, x in enumerate(x_test[:N]):\n",
    "    ys[idx] = np.array(model.predict(x.astype(dtype))).flatten()\n",
    "\n",
    "ys_args = np.argmax(ys, -1)\n",
    "scores = np.zeros(N)\n",
    "for i in range(N):\n",
    "    scores[i] = int(ys_args[i] == y_test[i])\n",
    "\n",
    "print('My acc:', np.sum(scores) / N)"
   ]
  },
  {
   "cell_type": "code",
   "execution_count": null,
   "metadata": {},
   "outputs": [],
   "source": []
  }
 ],
 "metadata": {
  "language_info": {
   "codemirror_mode": {
    "name": "ipython",
    "version": 3
   },
   "file_extension": ".py",
   "mimetype": "text/x-python",
   "name": "python",
   "nbconvert_exporter": "python",
   "pygments_lexer": "ipython3",
   "version": "3.7.7-final"
  },
  "orig_nbformat": 2,
  "kernelspec": {
   "name": "python37764bitenvvirtualenv05e3159b964e44a0ba373604112a38e7",
   "display_name": "Python 3.7.7 64-bit ('env': virtualenv)"
  }
 },
 "nbformat": 4,
 "nbformat_minor": 2
}