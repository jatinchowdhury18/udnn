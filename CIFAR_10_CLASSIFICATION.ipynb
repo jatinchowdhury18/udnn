{
  "cells": [
    {
      "cell_type": "markdown",
      "metadata": {},
      "source": [
        "# CIFAR 10 CNN\n",
        "\n",
        "Based on starter code from [here](https://github.com/santanu13/CIFAR_10_Classification_TPU)."
      ]
    },
    {
      "cell_type": "code",
      "metadata": {
        "id": "dQJbPGazvJ4f",
        "colab_type": "code",
        "outputId": "b297d21c-af83-4421-b9e5-9b65158fba07",
        "colab": {
          "base_uri": "https://localhost:8080/",
          "height": 50
        }
      },
      "source": [
        "#Import libraries\n",
        "\n",
        "import os\n",
        "import tensorflow as tf\n",
        "import numpy as np\n",
        "import pandas as pd\n",
        "from sklearn.model_selection import StratifiedShuffleSplit\n",
        "\n",
        "#Download dataset\n",
        "\n",
        "(x_train, y_train), (x_test, y_test) = tf.keras.datasets.cifar10.load_data()"
      ],
      "execution_count": 3,
      "outputs": [
        {
          "output_type": "stream",
          "text": [
            "Downloading data from https://www.cs.toronto.edu/~kriz/cifar-10-python.tar.gz\n",
            "170500096/170498071 [==============================] - 3s 0us/step\n"
          ],
          "name": "stdout"
        }
      ]
    },
    {
      "cell_type": "code",
      "metadata": {
        "id": "ooJ7Xk0G4ztP",
        "colab_type": "code",
        "colab": {}
      },
      "source": [
        "# normalize inputs from 0-255 to 0.0-1.0\n",
        "x_train = x_train.astype('float32')\n",
        "x_test = x_test.astype('float32')\n",
        "x_train = x_train / 255.0\n",
        "x_test = x_test / 255.0"
      ],
      "execution_count": 0,
      "outputs": []
    },
    {
      "cell_type": "code",
      "metadata": {
        "id": "NlOWBFZ3e0MV",
        "colab_type": "code",
        "colab": {}
      },
      "source": [
        "x_train=np.dot(x_train[...,:3], [0.299, 0.587, 0.114])\n",
        "x_test=np.dot(x_test[...,:3], [0.299, 0.587, 0.114])\n",
        "# add empty color dimension\n",
        "x_train = np.expand_dims(x_train, -1)\n",
        "x_test = np.expand_dims(x_test, -1)"
      ],
      "execution_count": 0,
      "outputs": []
    },
    {
      "cell_type": "code",
      "metadata": {
        "id": "VXpfmpGJvZ-7",
        "colab_type": "code",
        "outputId": "fefb6c23-5b92-40cb-9b74-46ca1f9b32a5",
        "colab": {
          "base_uri": "https://localhost:8080/",
          "height": 34
        }
      },
      "source": [
        "#Split the dataset into train and valid\n",
        "s = StratifiedShuffleSplit(n_splits=5, random_state=0, test_size=1/6)\n",
        "train_index, valid_index = next(s.split(x_train, y_train))\n",
        "x_valid, y_valid = x_train[valid_index], y_train[valid_index]\n",
        "x_train, y_train = x_train[train_index], y_train[train_index]\n",
        "print(x_train.shape, x_valid.shape, x_test.shape)"
      ],
      "execution_count": 6,
      "outputs": [
        {
          "output_type": "stream",
          "text": [
            "(41666, 32, 32, 1) (8334, 32, 32, 1) (10000, 32, 32, 1)\n"
          ],
          "name": "stdout"
        }
      ]
    },
    {
      "cell_type": "code",
      "metadata": {
        "id": "q1kHgAedveYq",
        "colab_type": "code",
        "outputId": "f0c57d74-dd1b-41b9-be9e-889d192d342c",
        "colab": {
          "base_uri": "https://localhost:8080/",
          "height": 689
        }
      },
      "source": [
        "model = tf.keras.models.Sequential()\n",
        "# model.add(tf.keras.layers.BatchNormalization(input_shape=x_train.shape[1:]))\n",
        "model.add(tf.keras.layers.Conv2D(32, (3, 3), input_shape=x_train.shape[1:]))\n",
        "model.add(tf.keras.layers.Activation('relu'))\n",
        "model.add(tf.keras.layers.Conv2D(32, (3, 3)))\n",
        "model.add(tf.keras.layers.Activation('relu'))\n",
        "model.add(tf.keras.layers.MaxPooling2D(pool_size=(2, 2)))\n",
        "model.add(tf.keras.layers.Dropout(0.25))\n",
        "\n",
        "# model.add(tf.keras.layers.BatchNormalization(input_shape=x_train.shape[1:]))\n",
        "model.add(tf.keras.layers.Conv2D(64, (3, 3)))\n",
        "model.add(tf.keras.layers.Activation('relu'))\n",
        "model.add(tf.keras.layers.MaxPooling2D(pool_size=(2, 2)))\n",
        "model.add(tf.keras.layers.Dropout(0.25))\n",
        "\n",
        "# model.add(tf.keras.layers.BatchNormalization(input_shape=x_train.shape[1:]))\n",
        "# model.add(tf.keras.layers.Conv2D(256, (5, 5)))\n",
        "# model.add(tf.keras.layers.Activation('relu'))\n",
        "# model.add(tf.keras.layers.MaxPooling2D(pool_size=(2, 2)))\n",
        "# model.add(tf.keras.layers.Dropout(0.25))\n",
        "\n",
        "model.add(tf.keras.layers.Flatten())\n",
        "model.add(tf.keras.layers.Dense(512))\n",
        "model.add(tf.keras.layers.Activation('relu'))\n",
        "model.add(tf.keras.layers.Dropout(0.5))\n",
        "model.add(tf.keras.layers.Dense(10))\n",
        "model.add(tf.keras.layers.Activation('sigmoid'))\n",
        "model.summary()"
      ],
      "execution_count": 24,
      "outputs": [
        {
          "output_type": "stream",
          "text": [
            "Model: \"sequential_8\"\n",
            "_________________________________________________________________\n",
            "Layer (type)                 Output Shape              Param #   \n",
            "=================================================================\n",
            "conv2d_19 (Conv2D)           (None, 30, 30, 32)        320       \n",
            "_________________________________________________________________\n",
            "activation_21 (Activation)   (None, 30, 30, 32)        0         \n",
            "_________________________________________________________________\n",
            "conv2d_20 (Conv2D)           (None, 28, 28, 32)        9248      \n",
            "_________________________________________________________________\n",
            "activation_22 (Activation)   (None, 28, 28, 32)        0         \n",
            "_________________________________________________________________\n",
            "max_pooling2d_16 (MaxPooling (None, 14, 14, 32)        0         \n",
            "_________________________________________________________________\n",
            "dropout_21 (Dropout)         (None, 14, 14, 32)        0         \n",
            "_________________________________________________________________\n",
            "conv2d_21 (Conv2D)           (None, 12, 12, 64)        18496     \n",
            "_________________________________________________________________\n",
            "activation_23 (Activation)   (None, 12, 12, 64)        0         \n",
            "_________________________________________________________________\n",
            "max_pooling2d_17 (MaxPooling (None, 6, 6, 64)          0         \n",
            "_________________________________________________________________\n",
            "dropout_22 (Dropout)         (None, 6, 6, 64)          0         \n",
            "_________________________________________________________________\n",
            "flatten_6 (Flatten)          (None, 2304)              0         \n",
            "_________________________________________________________________\n",
            "dense_12 (Dense)             (None, 512)               1180160   \n",
            "_________________________________________________________________\n",
            "activation_24 (Activation)   (None, 512)               0         \n",
            "_________________________________________________________________\n",
            "dropout_23 (Dropout)         (None, 512)               0         \n",
            "_________________________________________________________________\n",
            "dense_13 (Dense)             (None, 10)                5130      \n",
            "_________________________________________________________________\n",
            "activation_25 (Activation)   (None, 10)                0         \n",
            "=================================================================\n",
            "Total params: 1,213,354\n",
            "Trainable params: 1,213,354\n",
            "Non-trainable params: 0\n",
            "_________________________________________________________________\n"
          ],
          "name": "stdout"
        }
      ]
    },
    {
      "cell_type": "code",
      "metadata": {
        "id": "NuHYhN11awpR",
        "colab_type": "code",
        "colab": {}
      },
      "source": [
        ""
      ],
      "execution_count": 0,
      "outputs": []
    },
    {
      "cell_type": "code",
      "metadata": {
        "id": "xduOQYskvkFZ",
        "colab_type": "code",
        "colab": {}
      },
      "source": [
        "# tpu_model = tf.contrib.tpu.keras_to_tpu_model(\n",
        "#     model,\n",
        "#     strategy=tf.contrib.tpu.TPUDistributionStrategy(\n",
        "#         tf.contrib.cluster_resolver.TPUClusterResolver(tpu='grpc://' + os.environ['COLAB_TPU_ADDR'])\n",
        "#     )\n",
        "# )\n",
        "model.compile(\n",
        "    optimizer=tf.keras.optimizers.Adam(learning_rate= 0.001 ),\n",
        "    loss=tf.keras.losses.sparse_categorical_crossentropy,\n",
        "    metrics=['sparse_categorical_accuracy']\n",
        ")"
      ],
      "execution_count": 0,
      "outputs": []
    },
    {
      "cell_type": "code",
      "metadata": {
        "id": "qTC5RNcwvrbF",
        "colab_type": "code",
        "outputId": "7d85a5e8-a5af-47e2-dc76-a1b9f859daf5",
        "colab": {
          "base_uri": "https://localhost:8080/",
          "height": 1000
        }
      },
      "source": [
        "%%time\n",
        "\n",
        "datagen = tf.keras.preprocessing.image.ImageDataGenerator(\n",
        "    rotation_range=15,\n",
        "    width_shift_range=0.1,\n",
        "    height_shift_range=0.1,\n",
        "    horizontal_flip=True,\n",
        "    )\n",
        "datagen.fit(x_train)\n",
        " \n",
        "    \n",
        "batch_size=128\n",
        "early_stop = tf.keras.callbacks.EarlyStopping(monitor='loss', patience=2, verbose=1)\n",
        "history=model.fit_generator(\n",
        "    datagen.flow(x_train, y_train, batch_size=batch_size),\n",
        "    epochs=50,\n",
        "    steps_per_epoch=int(np.ceil(x_train.shape[0] / batch_size)),\n",
        "    validation_data=(x_valid, y_valid),callbacks=[early_stop]\n",
        ")"
      ],
      "execution_count": 26,
      "outputs": [
        {
          "output_type": "stream",
          "text": [
            "Epoch 1/30\n",
            "326/326 [==============================] - 119s 364ms/step - loss: 1.9249 - sparse_categorical_accuracy: 0.2946 - val_loss: 1.5933 - val_sparse_categorical_accuracy: 0.4376\n",
            "Epoch 2/30\n",
            "326/326 [==============================] - 123s 376ms/step - loss: 1.5813 - sparse_categorical_accuracy: 0.4336 - val_loss: 1.3662 - val_sparse_categorical_accuracy: 0.5197\n",
            "Epoch 3/30\n",
            "326/326 [==============================] - 119s 365ms/step - loss: 1.4110 - sparse_categorical_accuracy: 0.4983 - val_loss: 1.2050 - val_sparse_categorical_accuracy: 0.5775\n",
            "Epoch 4/30\n",
            "326/326 [==============================] - 119s 365ms/step - loss: 1.3157 - sparse_categorical_accuracy: 0.5370 - val_loss: 1.1542 - val_sparse_categorical_accuracy: 0.5912\n",
            "Epoch 5/30\n",
            "326/326 [==============================] - 119s 365ms/step - loss: 1.2502 - sparse_categorical_accuracy: 0.5624 - val_loss: 1.1221 - val_sparse_categorical_accuracy: 0.6036\n",
            "Epoch 6/30\n",
            "326/326 [==============================] - 119s 366ms/step - loss: 1.2018 - sparse_categorical_accuracy: 0.5767 - val_loss: 1.0393 - val_sparse_categorical_accuracy: 0.6376\n",
            "Epoch 7/30\n",
            "326/326 [==============================] - 123s 376ms/step - loss: 1.1685 - sparse_categorical_accuracy: 0.5921 - val_loss: 1.0001 - val_sparse_categorical_accuracy: 0.6523\n",
            "Epoch 8/30\n",
            "326/326 [==============================] - 121s 371ms/step - loss: 1.1411 - sparse_categorical_accuracy: 0.5985 - val_loss: 0.9930 - val_sparse_categorical_accuracy: 0.6517\n",
            "Epoch 9/30\n",
            "326/326 [==============================] - 121s 373ms/step - loss: 1.1082 - sparse_categorical_accuracy: 0.6097 - val_loss: 0.9309 - val_sparse_categorical_accuracy: 0.6770\n",
            "Epoch 10/30\n",
            "326/326 [==============================] - 121s 370ms/step - loss: 1.0914 - sparse_categorical_accuracy: 0.6173 - val_loss: 0.9468 - val_sparse_categorical_accuracy: 0.6706\n",
            "Epoch 11/30\n",
            "326/326 [==============================] - 120s 369ms/step - loss: 1.0655 - sparse_categorical_accuracy: 0.6325 - val_loss: 0.9223 - val_sparse_categorical_accuracy: 0.6731\n",
            "Epoch 12/30\n",
            "326/326 [==============================] - 123s 379ms/step - loss: 1.0606 - sparse_categorical_accuracy: 0.6302 - val_loss: 0.9783 - val_sparse_categorical_accuracy: 0.6631\n",
            "Epoch 13/30\n",
            "326/326 [==============================] - 120s 367ms/step - loss: 1.0326 - sparse_categorical_accuracy: 0.6397 - val_loss: 0.9068 - val_sparse_categorical_accuracy: 0.6835\n",
            "Epoch 14/30\n",
            "326/326 [==============================] - 120s 368ms/step - loss: 1.0253 - sparse_categorical_accuracy: 0.6461 - val_loss: 0.8854 - val_sparse_categorical_accuracy: 0.6993\n",
            "Epoch 15/30\n",
            "326/326 [==============================] - 120s 369ms/step - loss: 1.0128 - sparse_categorical_accuracy: 0.6484 - val_loss: 0.9036 - val_sparse_categorical_accuracy: 0.6902\n",
            "Epoch 16/30\n",
            "326/326 [==============================] - 120s 369ms/step - loss: 1.0041 - sparse_categorical_accuracy: 0.6538 - val_loss: 0.8345 - val_sparse_categorical_accuracy: 0.7130\n",
            "Epoch 17/30\n",
            "326/326 [==============================] - 124s 380ms/step - loss: 0.9852 - sparse_categorical_accuracy: 0.6574 - val_loss: 0.8394 - val_sparse_categorical_accuracy: 0.7145\n",
            "Epoch 18/30\n",
            "326/326 [==============================] - 121s 370ms/step - loss: 0.9789 - sparse_categorical_accuracy: 0.6587 - val_loss: 0.9031 - val_sparse_categorical_accuracy: 0.6883\n",
            "Epoch 19/30\n",
            "326/326 [==============================] - 121s 370ms/step - loss: 0.9728 - sparse_categorical_accuracy: 0.6628 - val_loss: 0.8143 - val_sparse_categorical_accuracy: 0.7196\n",
            "Epoch 20/30\n",
            "326/326 [==============================] - 120s 368ms/step - loss: 0.9623 - sparse_categorical_accuracy: 0.6689 - val_loss: 0.7917 - val_sparse_categorical_accuracy: 0.7300\n",
            "Epoch 21/30\n",
            "326/326 [==============================] - 120s 369ms/step - loss: 0.9561 - sparse_categorical_accuracy: 0.6688 - val_loss: 0.8713 - val_sparse_categorical_accuracy: 0.7064\n",
            "Epoch 22/30\n",
            "326/326 [==============================] - 124s 382ms/step - loss: 0.9514 - sparse_categorical_accuracy: 0.6709 - val_loss: 0.8469 - val_sparse_categorical_accuracy: 0.7123\n",
            "Epoch 23/30\n",
            "326/326 [==============================] - 120s 369ms/step - loss: 0.9373 - sparse_categorical_accuracy: 0.6758 - val_loss: 0.8262 - val_sparse_categorical_accuracy: 0.7209\n",
            "Epoch 24/30\n",
            "326/326 [==============================] - 121s 370ms/step - loss: 0.9323 - sparse_categorical_accuracy: 0.6769 - val_loss: 0.7752 - val_sparse_categorical_accuracy: 0.7330\n",
            "Epoch 25/30\n",
            "326/326 [==============================] - 119s 364ms/step - loss: 0.9281 - sparse_categorical_accuracy: 0.6800 - val_loss: 0.7957 - val_sparse_categorical_accuracy: 0.7285\n",
            "Epoch 26/30\n",
            "326/326 [==============================] - 119s 365ms/step - loss: 0.9266 - sparse_categorical_accuracy: 0.6790 - val_loss: 0.7749 - val_sparse_categorical_accuracy: 0.7330\n",
            "Epoch 27/30\n",
            "326/326 [==============================] - 123s 379ms/step - loss: 0.9235 - sparse_categorical_accuracy: 0.6802 - val_loss: 0.7351 - val_sparse_categorical_accuracy: 0.7478\n",
            "Epoch 28/30\n",
            "326/326 [==============================] - 121s 370ms/step - loss: 0.9117 - sparse_categorical_accuracy: 0.6842 - val_loss: 0.7949 - val_sparse_categorical_accuracy: 0.7262\n",
            "Epoch 29/30\n",
            "326/326 [==============================] - 120s 367ms/step - loss: 0.9119 - sparse_categorical_accuracy: 0.6829 - val_loss: 0.8143 - val_sparse_categorical_accuracy: 0.7249\n",
            "Epoch 30/30\n",
            "326/326 [==============================] - 120s 368ms/step - loss: 0.9022 - sparse_categorical_accuracy: 0.6844 - val_loss: 0.7605 - val_sparse_categorical_accuracy: 0.7400\n",
            "CPU times: user 1h 52min 38s, sys: 1min 27s, total: 1h 54min 5s\n",
            "Wall time: 1h 31s\n"
          ],
          "name": "stdout"
        }
      ]
    },
    {
      "cell_type": "code",
      "metadata": {
        "id": "OAxuPwwJ2281",
        "colab_type": "code",
        "colab": {}
      },
      "source": [
        ""
      ],
      "execution_count": 0,
      "outputs": []
    },
    {
      "cell_type": "markdown",
      "metadata": {
        "id": "kYKY3uQ9PAbn",
        "colab_type": "text"
      },
      "source": [
        ""
      ]
    },
    {
      "cell_type": "code",
      "metadata": {
        "id": "LQNPGpznwaeG",
        "colab_type": "code",
        "outputId": "0708d128-2c6d-4df8-e94a-c1a33976e710",
        "colab": {
          "base_uri": "https://localhost:8080/",
          "height": 84
        }
      },
      "source": [
        "%%time\n",
        "# Evaluate the model on valid set\n",
        "score = model.evaluate(x_valid, y_valid, verbose=0)\n",
        "\n",
        "# Print test accuracy\n",
        "print('\\n', 'Valid accuracy:', score[1])"
      ],
      "execution_count": 27,
      "outputs": [
        {
          "output_type": "stream",
          "text": [
            "\n",
            " Valid accuracy: 0.7399808168411255\n",
            "CPU times: user 9.61 s, sys: 176 ms, total: 9.78 s\n",
            "Wall time: 5.18 s\n"
          ],
          "name": "stdout"
        }
      ]
    },
    {
      "cell_type": "code",
      "metadata": {
        "id": "H_SC27BTwgu5",
        "colab_type": "code",
        "outputId": "5f4534a2-537c-4a28-c546-e050cf54a670",
        "colab": {
          "base_uri": "https://localhost:8080/",
          "height": 84
        }
      },
      "source": [
        "%%time\n",
        "# Evaluate the model on test set\n",
        "score = model.evaluate(x_test, y_test, verbose=0)\n",
        "\n",
        "# Print test accuracy\n",
        "print('\\n', 'Test accuracy:', score[1])"
      ],
      "execution_count": 29,
      "outputs": [
        {
          "output_type": "stream",
          "text": [
            "\n",
            " Test accuracy: 0.7404999732971191\n",
            "CPU times: user 11.6 s, sys: 199 ms, total: 11.8 s\n",
            "Wall time: 6.24 s\n"
          ],
          "name": "stdout"
        }
      ]
    },
    {
      "cell_type": "code",
      "metadata": {
        "id": "Z4i5Mxtywisa",
        "colab_type": "code",
        "outputId": "b517b16c-e4d4-472a-b1dd-57575d356052",
        "colab": {
          "base_uri": "https://localhost:8080/",
          "height": 282
        }
      },
      "source": [
        "# For visually better looking plots\n",
        "import matplotlib.pyplot as plt\n",
        "# Changing default figure size for properly accomodating images\n",
        "from pylab import rcParams\n",
        "rcParams['figure.figsize'] = (16, 4)\n",
        "plt.style.use('ggplot')\n",
        "\n",
        "f, (ax1, ax2) = plt.subplots(nrows=1, ncols=2)\n",
        "ax1.set_title('Training Loss vs. Epoch')\n",
        "ax2.set_title('Validation Accuracy vs. Epoch')\n",
        "\n",
        "ax1.plot(history.history['loss'], color='green', label='Train Loss')\n",
        "ax1.plot(history.history['val_loss'], color='blue', label='Val loss')\n",
        "\n",
        "ax2.plot(history.history['sparse_categorical_accuracy'], color='green', label='Train Accuracy')\n",
        "ax2.plot(history.history['val_sparse_categorical_accuracy'], color='blue', label='Val Accuracy')\n",
        "\n",
        "ax1.legend(loc='upper right')\n",
        "ax2.legend(loc='lower right')\n",
        "plt.show()\n",
        "\n"
      ],
      "execution_count": 30,
      "outputs": [
        {
          "output_type": "display_data",
          "data": {
            "image/png": "[encoded data removed]",
            "text/plain": [
              "<Figure size 1152x288 with 2 Axes>"
            ]
          },
          "metadata": {
            "tags": []
          }
        }
      ]
    },
    {
      "cell_type": "code",
      "metadata": {
        "id": "gh3el6xZ5B4h",
        "colab_type": "code",
        "colab": {}
      },
      "source": [
        "model.save('my_model.h5')"
      ],
      "execution_count": 0,
      "outputs": []
    },
    {
      "cell_type": "code",
      "metadata": {
        "id": "lhSCg0gI347K",
        "colab_type": "code",
        "colab": {}
      },
      "source": [
        ""
      ],
      "execution_count": 0,
      "outputs": []
    }
  ],
  "metadata": {
    "colab": {
      "name": "Copy of CIFAR-10_CLASSIFICATION_TPU.ipynb",
      "provenance": [],
      "collapsed_sections": [],
      "toc_visible": true
    },
    "kernelspec": {
      "name": "python3",
      "display_name": "Python 3"
    },
    "accelerator": "TPU"
  },
  "nbformat": 4,
  "nbformat_minor": 0
}